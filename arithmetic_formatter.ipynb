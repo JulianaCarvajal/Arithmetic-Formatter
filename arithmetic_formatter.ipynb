{
 "cells": [
  {
   "cell_type": "code",
   "execution_count": 52,
   "metadata": {},
   "outputs": [],
   "source": [
    "def arithmetic_arranger(problems, ans=False):\n",
    "    if len(problems) > 5:\n",
    "        return 'Error: Too many problems.'\n",
    "\n",
    "    dict_lines = {}\n",
    "    separate_problems = []\n",
    "    for i in range(len(problems)):                    \n",
    "        separate_problems = problems[i].split(\" \")\n",
    "        if separate_problems[1] not in \"+-\":\n",
    "            return \"Error: Operator must be '+' or '-'.\"\n",
    "        if len(separate_problems[0]) > 4 or len(separate_problems[2]) > 4:\n",
    "            return 'Error: Numbers cannot be more than four digits.'\n",
    "        if separate_problems[0].isdigit() and separate_problems[2].isdigit():\n",
    "            answer = str(eval(problems[i]))\n",
    "            if len(separate_problems[0]) < len(separate_problems[2]):\n",
    "                total_length = len(separate_problems[2]) + 2\n",
    "            else:\n",
    "                total_length = len(separate_problems[0]) + 2\n",
    "            first_line = ' '*(total_length-len(separate_problems[0])) + separate_problems[0]\n",
    "            second_line = separate_problems[1] + ' '*(total_length-len(separate_problems[2])-1) + separate_problems[2]\n",
    "            dashes = '-'*total_length            \n",
    "            answer = ' '*(total_length-len(answer)) + answer\n",
    "            dict_lines[i] = [first_line, second_line, dashes, answer]\n",
    "            \n",
    "        else:\n",
    "            return 'Error: Numbers must only contain digits.'\n",
    "        \n",
    "    arranged_problems = ''\n",
    "    for i in range(4):\n",
    "        for j in range(len(problems)):\n",
    "            if j == len(problems) - 1:\n",
    "                arranged_problems += dict_lines[j][i]\n",
    "            else:\n",
    "                arranged_problems += dict_lines[j][i] + '    '\n",
    "        if ans == False and i == 2:\n",
    "            break\n",
    "        if i != 3:\n",
    "            arranged_problems += '\\n'\n",
    "    print(arranged_problems)\n",
    "    # return arranged_problems"
   ]
  },
  {
   "cell_type": "code",
   "execution_count": 60,
   "metadata": {},
   "outputs": [
    {
     "name": "stdout",
     "output_type": "stream",
     "text": [
      "    3      3801      45      123\n",
      "- 855    -    2    + 43    +  49\n",
      "-----    ------    ----    -----\n",
      " -852      3799      88      172\n"
     ]
    }
   ],
   "source": [
    "problems = ['3 - 855', '3801 - 2', '45 + 43', '123 + 49']\n",
    "arithmetic_arranger(problems, True)"
   ]
  },
  {
   "cell_type": "code",
   "execution_count": null,
   "metadata": {},
   "outputs": [],
   "source": []
  }
 ],
 "metadata": {
  "kernelspec": {
   "display_name": "Python 3",
   "language": "python",
   "name": "python3"
  },
  "language_info": {
   "codemirror_mode": {
    "name": "ipython",
    "version": 3
   },
   "file_extension": ".py",
   "mimetype": "text/x-python",
   "name": "python",
   "nbconvert_exporter": "python",
   "pygments_lexer": "ipython3",
   "version": "3.9.13"
  },
  "orig_nbformat": 4,
  "vscode": {
   "interpreter": {
    "hash": "c35574a98be30f8d7037e0725b50e433e0b66a30ead3ea7cacc50fbbd8d435ed"
   }
  }
 },
 "nbformat": 4,
 "nbformat_minor": 2
}
